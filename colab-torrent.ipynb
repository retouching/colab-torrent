{
  "cells": [
    {
      "cell_type": "markdown",
      "metadata": {
        "id": "6jtHFKD_j6rI"
      },
      "source": [
        "# 1. Install dependencies"
      ]
    },
    {
      "cell_type": "code",
      "execution_count": null,
      "metadata": {
        "id": "Kqz8iX7Gj51G"
      },
      "outputs": [],
      "source": [
        "from google.colab import output\n",
        "\n",
        "# Update colab apt\n",
        "!sudo apt update\n",
        "\n",
        "# Install Aria2 for download torrents\n",
        "!sudo apt install aria2 xattr\n",
        "\n",
        "# Install python packages\n",
        "!pip install requests\n",
        "\n",
        "output.clear()\n",
        "print('Success: Requirements installed!')"
      ]
    },
    {
      "cell_type": "markdown",
      "metadata": {
        "id": "cozdCPnBj-YE"
      },
      "source": [
        "# 2. Configure download"
      ]
    },
    {
      "cell_type": "code",
      "execution_count": null,
      "metadata": {
        "id": "HbfEAuJ5kAPM"
      },
      "outputs": [],
      "source": [
        "#@title 2.1 Initialize Google Drive\n",
        "\n",
        "from google.colab import drive, output\n",
        "drive.mount('/content/gdrive')\n",
        "\n",
        "output.clear()\n",
        "print('Success: Google Drive initialized')"
      ]
    },
    {
      "cell_type": "code",
      "execution_count": null,
      "metadata": {
        "id": "gJfpwBRukB2x"
      },
      "outputs": [],
      "source": [
        "from google.colab import files\n",
        "\n",
        "#@title 2.2 Initialize download parameters\n",
        "\n",
        "torrent_url = ''  #@param {type: \"string\"}\n",
        "proxy = ''  #@param {type: \"string\"}\n",
        "\n",
        "gdrive_output = \"Colab-Torrent\" #@param {type:\"string\"}\n",
        "drive_type = \"My Drive\" #@param [\"My Drive\", \"Shared Drive\"]\n",
        "sharded_drive_name = '' #@param {type:\"string\"}\n",
        "\n",
        "if len(torrent_url) < 1:\n",
        "    files.upload_file('to_download.torrent')\n",
        "    torrent_url = '/content/to_download.torrent'\n"
      ]
    },
    {
      "cell_type": "markdown",
      "metadata": {
        "id": "nMixOmaHkEqt"
      },
      "source": [
        "# 3. Download content"
      ]
    },
    {
      "cell_type": "code",
      "execution_count": null,
      "metadata": {
        "id": "_GxlY-xBkGGA"
      },
      "outputs": [],
      "source": [
        "import subprocess\n",
        "import time\n",
        "import os\n",
        "import shutil\n",
        "import requests\n",
        "\n",
        "!sudo rm -rf /temp/*-temp\n",
        "\n",
        "temp_path = os.path.join('/temp', '%s-temp' % int(time.time()))\n",
        "os.makedirs(temp_path, exist_ok=True)\n",
        "\n",
        "if len(proxy) < 1:\n",
        "  proxy_url = None\n",
        "elif not proxy.startswith('http:'):\n",
        "  raise Exception('Error: Only http proxy can be used!')\n",
        "\n",
        "if drive_type == 'Shared Drive':\n",
        "  if len(sharded_drive_name) < 1:\n",
        "    raise Exception('Error: No shared drive name supplied')\n",
        "\n",
        "  output_path = os.path.join('/content/gdrive/Shareddrives/', sharded_drive_name)\n",
        "\n",
        "  if not os.path.exists(output_path):\n",
        "    raise Exception('Error: Shared drive \"%s\" not found' % sharded_drive_name)\n",
        "else:\n",
        "  output_path = '/content/gdrive/MyDrive'\n",
        "\n",
        "output_path = os.path.join(output_path, gdrive_output)\n",
        "os.makedirs(output_path, exist_ok=True)\n",
        "\n",
        "if torrent_url.startswith('http'):\n",
        "  torrent_path = os.path.join(temp_path, 'torrent-%s.torrent' % int(time.time()))\n",
        "\n",
        "  with open(torrent_path, 'wb') as fp:\n",
        "    req = requests.get(torrent_url)\n",
        "\n",
        "    if req.status_code != 200:\n",
        "      raise Exception('Error: Unable to get torrent')\n",
        "    fp.write(req.content)\n",
        "\n",
        "  torrent_url = torrent_path\n",
        "\n",
        "args = [\n",
        "  'aria2c',\n",
        "  '-T', torrent_url,\n",
        "  '-d', temp_path,\n",
        "  '--remote-time',\n",
        "  '-x', '16',\n",
        "  '-j', '16',\n",
        "  '-s', '16',\n",
        "  '--min-split-size', '20M',\n",
        "  '--allow-overwrite=true',\n",
        "  '--auto-file-renaming=false',\n",
        "  '--retry-wait', '2',\n",
        "  '--max-tries', '5',\n",
        "  '--max-file-not-found', '0',\n",
        "  '--summary-interval', '0',\n",
        "  '--seed-time=0',\n",
        "  '--summary-interval=1'\n",
        "]\n",
        "\n",
        "if proxy:\n",
        "  args += [\"--all-proxy\", str(proxy)]\n",
        "\n",
        "proc = subprocess.Popen(\n",
        "    args,\n",
        "    stdout=subprocess.DEVNULL,\n",
        "    stderr=subprocess.PIPE\n",
        ")\n",
        "\n",
        "print('Info: Downloading content ...')\n",
        "_, err = proc.communicate()\n",
        "\n",
        "if proc.returncode != 0:\n",
        "  raise Exception('Error: \\n' + err.decode('utf-8'))\n",
        "\n",
        "if os.path.exists(torrent_url):\n",
        "  os.unlink(torrent_url)\n",
        "\n",
        "try:\n",
        "  for item in os.scandir(temp_path):\n",
        "    print('Info: Upload %s' % os.path.basename(item.path))\n",
        "\n",
        "    if os.path.exists(os.path.join(output_path, os.path.basename(item.path))):\n",
        "      if item.is_file:\n",
        "        os.unlink(os.path.join(output_path, os.path.basename(item.path)))\n",
        "      else:\n",
        "        shutil.rmtree(os.path.join(output_path, os.path.basename(item.path)))\n",
        "\n",
        "    shutil.move(item.path, output_path)\n",
        "  drive.flush_and_unmount()\n",
        "except:\n",
        "  raise Exception('Error: Unable to upload files to Google Drive')\n",
        "\n",
        "print('Success: File downloaded!')\n"
      ]
    }
  ],
  "metadata": {
    "colab": {
      "provenance": []
    },
    "kernelspec": {
      "display_name": "Python 3",
      "name": "python3"
    },
    "language_info": {
      "name": "python"
    }
  },
  "nbformat": 4,
  "nbformat_minor": 0
}
